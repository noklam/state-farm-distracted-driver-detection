{
 "cells": [
  {
   "cell_type": "markdown",
   "metadata": {},
   "source": [
    "# Only run this notebook for the first time to create validation and sample dataset"
   ]
  },
  {
   "cell_type": "markdown",
   "metadata": {},
   "source": [
    "# Enter State Farm"
   ]
  },
  {
   "cell_type": "code",
   "execution_count": 1,
   "metadata": {
    "ExecuteTime": {
     "end_time": "2018-05-09T08:17:32.914924Z",
     "start_time": "2018-05-09T08:17:30.949894Z"
    }
   },
   "outputs": [],
   "source": [
    "from fastai.conv_learner import *"
   ]
  },
  {
   "cell_type": "code",
   "execution_count": 2,
   "metadata": {
    "ExecuteTime": {
     "end_time": "2018-05-09T08:17:32.925682Z",
     "start_time": "2018-05-09T08:17:32.917782Z"
    }
   },
   "outputs": [],
   "source": [
    "%matplotlib inline\n",
    "from __future__ import print_function, division\n",
    "from IPython.display import FileLink"
   ]
  },
  {
   "cell_type": "code",
   "execution_count": 3,
   "metadata": {
    "ExecuteTime": {
     "end_time": "2018-05-09T08:17:32.931992Z",
     "start_time": "2018-05-09T08:17:32.928769Z"
    }
   },
   "outputs": [],
   "source": [
    "batch_size=64"
   ]
  },
  {
   "cell_type": "markdown",
   "metadata": {},
   "source": [
    "## Create sample"
   ]
  },
  {
   "cell_type": "markdown",
   "metadata": {},
   "source": [
    "The following assumes you've already created your validation set - remember that the training and validation set should contain *different drivers*, as mentioned on the Kaggle competition page."
   ]
  },
  {
   "cell_type": "markdown",
   "metadata": {},
   "source": [
    "## Valid"
   ]
  },
  {
   "cell_type": "code",
   "execution_count": 4,
   "metadata": {
    "ExecuteTime": {
     "end_time": "2018-05-09T08:17:32.941010Z",
     "start_time": "2018-05-09T08:17:32.936750Z"
    }
   },
   "outputs": [
    {
     "name": "stdout",
     "output_type": "stream",
     "text": [
      "/home/channoklam_cnl/.kaggle/competitions/state-farm-distracted-driver-detection/data\n"
     ]
    }
   ],
   "source": [
    "cd data"
   ]
  },
  {
   "cell_type": "code",
   "execution_count": 5,
   "metadata": {
    "ExecuteTime": {
     "end_time": "2018-05-09T08:17:34.057000Z",
     "start_time": "2018-05-09T08:17:34.053588Z"
    }
   },
   "outputs": [
    {
     "name": "stdout",
     "output_type": "stream",
     "text": [
      "/home/channoklam_cnl/.kaggle/competitions/state-farm-distracted-driver-detection/data/state\n"
     ]
    }
   ],
   "source": [
    "cd state"
   ]
  },
  {
   "cell_type": "code",
   "execution_count": 6,
   "metadata": {
    "ExecuteTime": {
     "end_time": "2018-05-09T08:17:34.441937Z",
     "start_time": "2018-05-09T08:17:34.437786Z"
    }
   },
   "outputs": [
    {
     "name": "stdout",
     "output_type": "stream",
     "text": [
      "/home/channoklam_cnl/.kaggle/competitions/state-farm-distracted-driver-detection/data/state/train\n"
     ]
    }
   ],
   "source": [
    "cd train"
   ]
  },
  {
   "cell_type": "code",
   "execution_count": 7,
   "metadata": {
    "ExecuteTime": {
     "end_time": "2018-05-09T08:17:35.412949Z",
     "start_time": "2018-05-09T08:17:35.410043Z"
    }
   },
   "outputs": [],
   "source": [
    "TRAIN_PATH = Path('.')"
   ]
  },
  {
   "cell_type": "code",
   "execution_count": 8,
   "metadata": {
    "ExecuteTime": {
     "end_time": "2018-05-09T08:17:36.072550Z",
     "start_time": "2018-05-09T08:17:36.069598Z"
    }
   },
   "outputs": [],
   "source": [
    "('../valid'/TRAIN_PATH).mkdir(exist_ok=True)"
   ]
  },
  {
   "cell_type": "code",
   "execution_count": 9,
   "metadata": {
    "ExecuteTime": {
     "end_time": "2018-05-09T08:17:36.789346Z",
     "start_time": "2018-05-09T08:17:36.669835Z"
    }
   },
   "outputs": [
    {
     "name": "stdout",
     "output_type": "stream",
     "text": [
      "driver_imgs_list.csv      \u001b[0m\u001b[01;31mimgs.zip\u001b[0m                   \u001b[01;34mtest\u001b[0m/   \u001b[01;34mvalid\u001b[0m/\r\n",
      "\u001b[01;31mdriver_imgs_list.csv.zip\u001b[0m  \u001b[01;31msample_submission.csv.zip\u001b[0m  \u001b[01;34mtrain\u001b[0m/\r\n"
     ]
    }
   ],
   "source": [
    "ls ../ "
   ]
  },
  {
   "cell_type": "code",
   "execution_count": 10,
   "metadata": {
    "ExecuteTime": {
     "end_time": "2018-05-09T08:17:39.716441Z",
     "start_time": "2018-05-09T08:17:39.678402Z"
    }
   },
   "outputs": [],
   "source": [
    "driver = pd.read_csv('../driver_imgs_list.csv.zip')"
   ]
  },
  {
   "cell_type": "code",
   "execution_count": 11,
   "metadata": {
    "ExecuteTime": {
     "end_time": "2018-05-09T08:17:40.296118Z",
     "start_time": "2018-05-09T08:17:40.290895Z"
    }
   },
   "outputs": [],
   "source": [
    "drivers  = driver.subject.unique() ## All driver"
   ]
  },
  {
   "cell_type": "code",
   "execution_count": 12,
   "metadata": {
    "ExecuteTime": {
     "end_time": "2018-05-09T08:17:40.816871Z",
     "start_time": "2018-05-09T08:17:40.810004Z"
    }
   },
   "outputs": [
    {
     "data": {
      "text/plain": [
       "(26,\n",
       " array(['p002', 'p012', 'p014', 'p015', 'p016', 'p021', 'p022', 'p024', 'p026', 'p035', 'p039', 'p041',\n",
       "        'p042', 'p045', 'p047', 'p049', 'p050', 'p051', 'p052', 'p056', 'p061', 'p064', 'p066', 'p072',\n",
       "        'p075', 'p081'], dtype=object))"
      ]
     },
     "execution_count": 12,
     "metadata": {},
     "output_type": "execute_result"
    }
   ],
   "source": [
    "len(drivers),drivers"
   ]
  },
  {
   "cell_type": "code",
   "execution_count": 13,
   "metadata": {
    "ExecuteTime": {
     "end_time": "2018-05-09T08:17:42.032641Z",
     "start_time": "2018-05-09T08:17:42.029697Z"
    }
   },
   "outputs": [],
   "source": [
    "idxs = np.random.permutation(len(drivers))"
   ]
  },
  {
   "cell_type": "code",
   "execution_count": 14,
   "metadata": {
    "ExecuteTime": {
     "end_time": "2018-05-09T08:17:42.685221Z",
     "start_time": "2018-05-09T08:17:42.669919Z"
    }
   },
   "outputs": [
    {
     "data": {
      "text/html": [
       "<div>\n",
       "<style scoped>\n",
       "    .dataframe tbody tr th:only-of-type {\n",
       "        vertical-align: middle;\n",
       "    }\n",
       "\n",
       "    .dataframe tbody tr th {\n",
       "        vertical-align: top;\n",
       "    }\n",
       "\n",
       "    .dataframe thead th {\n",
       "        text-align: right;\n",
       "    }\n",
       "</style>\n",
       "<table border=\"1\" class=\"dataframe\">\n",
       "  <thead>\n",
       "    <tr style=\"text-align: right;\">\n",
       "      <th></th>\n",
       "      <th>subject</th>\n",
       "      <th>classname</th>\n",
       "      <th>img</th>\n",
       "    </tr>\n",
       "  </thead>\n",
       "  <tbody>\n",
       "    <tr>\n",
       "      <th>0</th>\n",
       "      <td>p002</td>\n",
       "      <td>c0</td>\n",
       "      <td>img_44733.jpg</td>\n",
       "    </tr>\n",
       "    <tr>\n",
       "      <th>1</th>\n",
       "      <td>p002</td>\n",
       "      <td>c0</td>\n",
       "      <td>img_72999.jpg</td>\n",
       "    </tr>\n",
       "    <tr>\n",
       "      <th>2</th>\n",
       "      <td>p002</td>\n",
       "      <td>c0</td>\n",
       "      <td>img_25094.jpg</td>\n",
       "    </tr>\n",
       "    <tr>\n",
       "      <th>3</th>\n",
       "      <td>p002</td>\n",
       "      <td>c0</td>\n",
       "      <td>img_69092.jpg</td>\n",
       "    </tr>\n",
       "    <tr>\n",
       "      <th>4</th>\n",
       "      <td>p002</td>\n",
       "      <td>c0</td>\n",
       "      <td>img_92629.jpg</td>\n",
       "    </tr>\n",
       "  </tbody>\n",
       "</table>\n",
       "</div>"
      ],
      "text/plain": [
       "  subject classname            img\n",
       "0    p002        c0  img_44733.jpg\n",
       "1    p002        c0  img_72999.jpg\n",
       "2    p002        c0  img_25094.jpg\n",
       "3    p002        c0  img_69092.jpg\n",
       "4    p002        c0  img_92629.jpg"
      ]
     },
     "execution_count": 14,
     "metadata": {},
     "output_type": "execute_result"
    }
   ],
   "source": [
    "driver.head()"
   ]
  },
  {
   "cell_type": "code",
   "execution_count": 15,
   "metadata": {
    "ExecuteTime": {
     "end_time": "2018-05-09T08:17:43.642421Z",
     "start_time": "2018-05-09T08:17:43.638357Z"
    }
   },
   "outputs": [],
   "source": [
    "drivers_trn = drivers[idxs[: int(len(drivers) * 0.8)]]\n",
    "drivers_val = drivers[idxs[int(len(drivers) * 0.8) :]]"
   ]
  },
  {
   "cell_type": "code",
   "execution_count": 16,
   "metadata": {
    "ExecuteTime": {
     "end_time": "2018-05-09T08:17:44.053494Z",
     "start_time": "2018-05-09T08:17:44.049769Z"
    }
   },
   "outputs": [
    {
     "data": {
      "text/plain": [
       "array(['p081', 'p061', 'p047', 'p042', 'p051', 'p056'], dtype=object)"
      ]
     },
     "execution_count": 16,
     "metadata": {},
     "output_type": "execute_result"
    }
   ],
   "source": [
    "drivers_val # 5 drivers is split into val set"
   ]
  },
  {
   "cell_type": "code",
   "execution_count": 17,
   "metadata": {
    "ExecuteTime": {
     "end_time": "2018-05-09T08:17:44.249108Z",
     "start_time": "2018-05-09T08:17:44.238513Z"
    }
   },
   "outputs": [],
   "source": [
    "img_trn = driver[driver.subject.isin(drivers_trn)]\n",
    "img_val = driver[driver.subject.isin(drivers_val)]"
   ]
  },
  {
   "cell_type": "code",
   "execution_count": 18,
   "metadata": {
    "ExecuteTime": {
     "end_time": "2018-05-09T08:17:44.392351Z",
     "start_time": "2018-05-09T08:17:44.389796Z"
    }
   },
   "outputs": [],
   "source": [
    "# Set aside the files to a valid folder"
   ]
  },
  {
   "cell_type": "code",
   "execution_count": 19,
   "metadata": {
    "ExecuteTime": {
     "end_time": "2018-05-09T08:17:44.600729Z",
     "start_time": "2018-05-09T08:17:44.589877Z"
    }
   },
   "outputs": [
    {
     "data": {
      "text/html": [
       "<div>\n",
       "<style scoped>\n",
       "    .dataframe tbody tr th:only-of-type {\n",
       "        vertical-align: middle;\n",
       "    }\n",
       "\n",
       "    .dataframe tbody tr th {\n",
       "        vertical-align: top;\n",
       "    }\n",
       "\n",
       "    .dataframe thead th {\n",
       "        text-align: right;\n",
       "    }\n",
       "</style>\n",
       "<table border=\"1\" class=\"dataframe\">\n",
       "  <thead>\n",
       "    <tr style=\"text-align: right;\">\n",
       "      <th></th>\n",
       "      <th>subject</th>\n",
       "      <th>classname</th>\n",
       "      <th>img</th>\n",
       "    </tr>\n",
       "  </thead>\n",
       "  <tbody>\n",
       "    <tr>\n",
       "      <th>11373</th>\n",
       "      <td>p042</td>\n",
       "      <td>c0</td>\n",
       "      <td>img_44073.jpg</td>\n",
       "    </tr>\n",
       "    <tr>\n",
       "      <th>11374</th>\n",
       "      <td>p042</td>\n",
       "      <td>c0</td>\n",
       "      <td>img_10570.jpg</td>\n",
       "    </tr>\n",
       "    <tr>\n",
       "      <th>11375</th>\n",
       "      <td>p042</td>\n",
       "      <td>c0</td>\n",
       "      <td>img_50819.jpg</td>\n",
       "    </tr>\n",
       "    <tr>\n",
       "      <th>11376</th>\n",
       "      <td>p042</td>\n",
       "      <td>c0</td>\n",
       "      <td>img_63414.jpg</td>\n",
       "    </tr>\n",
       "    <tr>\n",
       "      <th>11377</th>\n",
       "      <td>p042</td>\n",
       "      <td>c0</td>\n",
       "      <td>img_17524.jpg</td>\n",
       "    </tr>\n",
       "  </tbody>\n",
       "</table>\n",
       "</div>"
      ],
      "text/plain": [
       "      subject classname            img\n",
       "11373    p042        c0  img_44073.jpg\n",
       "11374    p042        c0  img_10570.jpg\n",
       "11375    p042        c0  img_50819.jpg\n",
       "11376    p042        c0  img_63414.jpg\n",
       "11377    p042        c0  img_17524.jpg"
      ]
     },
     "execution_count": 19,
     "metadata": {},
     "output_type": "execute_result"
    }
   ],
   "source": [
    "img_val.head()"
   ]
  },
  {
   "cell_type": "code",
   "execution_count": 20,
   "metadata": {
    "ExecuteTime": {
     "end_time": "2018-05-09T08:17:44.846371Z",
     "start_time": "2018-05-09T08:17:44.729881Z"
    }
   },
   "outputs": [
    {
     "name": "stdout",
     "output_type": "stream",
     "text": [
      "\u001b[0m\u001b[01;34mc0\u001b[0m/  \u001b[01;34mc1\u001b[0m/  \u001b[01;34mc2\u001b[0m/  \u001b[01;34mc3\u001b[0m/  \u001b[01;34mc4\u001b[0m/  \u001b[01;34mc5\u001b[0m/  \u001b[01;34mc6\u001b[0m/  \u001b[01;34mc7\u001b[0m/  \u001b[01;34mc8\u001b[0m/  \u001b[01;34mc9\u001b[0m/\r\n"
     ]
    }
   ],
   "source": [
    "ls"
   ]
  },
  {
   "cell_type": "code",
   "execution_count": 21,
   "metadata": {
    "ExecuteTime": {
     "end_time": "2018-05-09T08:17:45.678414Z",
     "start_time": "2018-05-09T08:17:45.674285Z"
    }
   },
   "outputs": [],
   "source": [
    "# We need to create the validation set with some special rules, since we want unique drivers in validation set, \n",
    "\n",
    "# Create the tree like file strcutures\n",
    "for d in glob('c?'):\n",
    "    os.mkdir('../valid/'+d)"
   ]
  },
  {
   "cell_type": "code",
   "execution_count": 22,
   "metadata": {
    "ExecuteTime": {
     "end_time": "2018-05-09T08:17:51.048415Z",
     "start_time": "2018-05-09T08:17:50.889740Z"
    }
   },
   "outputs": [],
   "source": [
    "# Move images to corresponding folder\n",
    "for d in glob('c?'):\n",
    "    g = glob(f'{d}/*.jpg') # corresponding class\n",
    "    g = [os.path.basename(path) for path in g]\n",
    "    for img in img_val['img'][img_val['img'].isin(g)]:\n",
    "        os.rename(f'{d}/{img}', f'../valid/{d}/' + img)\n",
    "    \n",
    "# "
   ]
  },
  {
   "cell_type": "code",
   "execution_count": 23,
   "metadata": {
    "ExecuteTime": {
     "end_time": "2018-05-09T08:18:59.248393Z",
     "start_time": "2018-05-09T08:18:59.245700Z"
    }
   },
   "outputs": [],
   "source": [
    "PATH_SAMPLE = Path('../sample')"
   ]
  },
  {
   "cell_type": "code",
   "execution_count": 24,
   "metadata": {
    "ExecuteTime": {
     "end_time": "2018-05-09T08:18:59.641181Z",
     "start_time": "2018-05-09T08:18:59.637930Z"
    }
   },
   "outputs": [],
   "source": [
    "PATH_SAMPLE.mkdir(exist_ok=True)\n",
    "(PATH_SAMPLE/'train').mkdir(exist_ok=True)\n",
    "(PATH_SAMPLE/'valid').mkdir(exist_ok=True)"
   ]
  },
  {
   "cell_type": "code",
   "execution_count": 25,
   "metadata": {
    "ExecuteTime": {
     "end_time": "2018-05-09T08:19:00.013030Z",
     "start_time": "2018-05-09T08:19:00.009637Z"
    }
   },
   "outputs": [],
   "source": [
    "for d in glob('c?'):\n",
    "    os.mkdir('../sample/train/'+d)\n",
    "    os.mkdir('../sample/valid/'+d)"
   ]
  },
  {
   "cell_type": "code",
   "execution_count": 26,
   "metadata": {
    "ExecuteTime": {
     "end_time": "2018-05-09T08:19:00.592615Z",
     "start_time": "2018-05-09T08:19:00.589799Z"
    }
   },
   "outputs": [],
   "source": [
    "from shutil import copyfile"
   ]
  },
  {
   "cell_type": "code",
   "execution_count": 27,
   "metadata": {
    "ExecuteTime": {
     "end_time": "2018-05-09T08:19:01.314728Z",
     "start_time": "2018-05-09T08:19:01.077756Z"
    }
   },
   "outputs": [],
   "source": [
    "g = glob('c?/*.jpg')\n",
    "shuf = np.random.permutation(g)\n",
    "for i in range(1500): copyfile(shuf[i], '../sample/train/' + shuf[i])"
   ]
  },
  {
   "cell_type": "code",
   "execution_count": 28,
   "metadata": {
    "ExecuteTime": {
     "end_time": "2018-05-09T08:19:03.461719Z",
     "start_time": "2018-05-09T08:19:03.457567Z"
    }
   },
   "outputs": [
    {
     "name": "stdout",
     "output_type": "stream",
     "text": [
      "/home/channoklam_cnl/.kaggle/competitions/state-farm-distracted-driver-detection/data/state/valid\n"
     ]
    }
   ],
   "source": [
    "%cd ../valid"
   ]
  },
  {
   "cell_type": "code",
   "execution_count": 29,
   "metadata": {
    "ExecuteTime": {
     "end_time": "2018-05-09T08:19:04.184080Z",
     "start_time": "2018-05-09T08:19:04.038424Z"
    }
   },
   "outputs": [],
   "source": [
    "g = glob('c?/*.jpg')\n",
    "shuf = np.random.permutation(g)\n",
    "for i in range(1000): copyfile(shuf[i], '../sample/valid/' + shuf[i])"
   ]
  },
  {
   "cell_type": "code",
   "execution_count": 30,
   "metadata": {
    "ExecuteTime": {
     "end_time": "2018-05-09T08:19:05.333556Z",
     "start_time": "2018-05-09T08:19:05.329623Z"
    }
   },
   "outputs": [
    {
     "name": "stdout",
     "output_type": "stream",
     "text": [
      "/home/channoklam_cnl/.kaggle/competitions/state-farm-distracted-driver-detection\n"
     ]
    }
   ],
   "source": [
    "%cd ../../.."
   ]
  },
  {
   "cell_type": "code",
   "execution_count": 31,
   "metadata": {
    "ExecuteTime": {
     "end_time": "2018-05-09T08:19:06.033358Z",
     "start_time": "2018-05-09T08:19:05.917476Z"
    }
   },
   "outputs": [],
   "source": [
    "%mkdir data/state/results"
   ]
  },
  {
   "cell_type": "code",
   "execution_count": 32,
   "metadata": {
    "ExecuteTime": {
     "end_time": "2018-05-09T08:19:06.654006Z",
     "start_time": "2018-05-09T08:19:06.537993Z"
    }
   },
   "outputs": [],
   "source": [
    "%mkdir data/state/sample/test"
   ]
  }
 ],
 "metadata": {
  "anaconda-cloud": {},
  "kernelspec": {
   "display_name": "Python 3",
   "language": "python",
   "name": "python3"
  },
  "language_info": {
   "codemirror_mode": {
    "name": "ipython",
    "version": 3
   },
   "file_extension": ".py",
   "mimetype": "text/x-python",
   "name": "python",
   "nbconvert_exporter": "python",
   "pygments_lexer": "ipython3",
   "version": "3.6.5"
  },
  "nav_menu": {},
  "nbpresent": {
   "slides": {
    "28b43202-5690-4169-9aca-6b9dabfeb3ec": {
     "id": "28b43202-5690-4169-9aca-6b9dabfeb3ec",
     "prev": null,
     "regions": {
      "3bba644a-cf4d-4a49-9fbd-e2554428cf9f": {
       "attrs": {
        "height": 0.8,
        "width": 0.8,
        "x": 0.1,
        "y": 0.1
       },
       "content": {
        "cell": "f3d3a388-7e2a-4151-9b50-c20498fceacc",
        "part": "whole"
       },
       "id": "3bba644a-cf4d-4a49-9fbd-e2554428cf9f"
      }
     }
    },
    "8104def2-4b68-44a0-8f1b-b03bf3b2a079": {
     "id": "8104def2-4b68-44a0-8f1b-b03bf3b2a079",
     "prev": "28b43202-5690-4169-9aca-6b9dabfeb3ec",
     "regions": {
      "7dded777-1ddf-4100-99ae-25cf1c15b575": {
       "attrs": {
        "height": 0.8,
        "width": 0.8,
        "x": 0.1,
        "y": 0.1
       },
       "content": {
        "cell": "fe47bd48-3414-4657-92e7-8b8d6cb0df00",
        "part": "whole"
       },
       "id": "7dded777-1ddf-4100-99ae-25cf1c15b575"
      }
     }
    }
   },
   "themes": {}
  },
  "toc": {
   "nav_menu": {
    "height": "148px",
    "width": "254px"
   },
   "navigate_menu": true,
   "number_sections": true,
   "sideBar": true,
   "threshold": 6,
   "toc_cell": false,
   "toc_section_display": "block",
   "toc_window_display": false
  },
  "widgets": {
   "state": {},
   "version": "1.1.2"
  }
 },
 "nbformat": 4,
 "nbformat_minor": 1
}
