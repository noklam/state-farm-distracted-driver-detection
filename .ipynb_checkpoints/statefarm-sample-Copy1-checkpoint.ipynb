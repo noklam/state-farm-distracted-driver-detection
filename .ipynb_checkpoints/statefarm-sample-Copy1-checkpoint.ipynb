{
 "cells": [
  {
   "cell_type": "markdown",
   "metadata": {},
   "source": [
    "# Enter State Farm"
   ]
  },
  {
   "cell_type": "code",
   "execution_count": 112,
   "metadata": {
    "ExecuteTime": {
     "end_time": "2018-05-10T07:27:37.747878Z",
     "start_time": "2018-05-10T07:27:37.745316Z"
    }
   },
   "outputs": [],
   "source": [
    "from fastai.conv_learner import *\n",
    "from fastai.dataset import *\n",
    "from fastai.transforms import*\n",
    "# from torchsummary import summary"
   ]
  },
  {
   "cell_type": "code",
   "execution_count": 113,
   "metadata": {
    "ExecuteTime": {
     "end_time": "2018-05-10T07:27:38.043796Z",
     "start_time": "2018-05-10T07:27:38.039127Z"
    }
   },
   "outputs": [],
   "source": [
    "%matplotlib inline\n",
    "from __future__ import print_function, division\n",
    "\n",
    "# Validation and Sample are created with separate notebook\n",
    "#path = \"data/state/\"\n",
    "# path = \"data/state/sample/\"\n",
    "# import utils; reload(utils)\n",
    "# from utils import *\n",
    "from IPython.display import FileLink"
   ]
  },
  {
   "cell_type": "code",
   "execution_count": 3,
   "metadata": {
    "ExecuteTime": {
     "end_time": "2018-05-10T06:26:40.760464Z",
     "start_time": "2018-05-10T06:26:40.758608Z"
    }
   },
   "outputs": [],
   "source": [
    "bs=64\n",
    "sz=224"
   ]
  },
  {
   "cell_type": "code",
   "execution_count": 28,
   "metadata": {
    "ExecuteTime": {
     "end_time": "2018-05-10T06:42:51.668841Z",
     "start_time": "2018-05-10T06:42:51.666540Z"
    }
   },
   "outputs": [],
   "source": [
    "PATH = Path('data/state/sample')"
   ]
  },
  {
   "cell_type": "markdown",
   "metadata": {},
   "source": [
    "## Custom Simple Conv"
   ]
  },
  {
   "cell_type": "code",
   "execution_count": 98,
   "metadata": {
    "ExecuteTime": {
     "end_time": "2018-05-10T07:20:45.572356Z",
     "start_time": "2018-05-10T07:20:45.570122Z"
    }
   },
   "outputs": [],
   "source": [
    "arch=vgg16"
   ]
  },
  {
   "cell_type": "code",
   "execution_count": 101,
   "metadata": {
    "ExecuteTime": {
     "end_time": "2018-05-10T07:21:07.039916Z",
     "start_time": "2018-05-10T07:20:55.305136Z"
    }
   },
   "outputs": [
    {
     "data": {
      "text/plain": [
       "Sequential(\n",
       "  (0): Conv2d(3, 64, kernel_size=(3, 3), stride=(1, 1), padding=(1, 1))\n",
       "  (1): BatchNorm2d(64, eps=1e-05, momentum=0.1, affine=True)\n",
       "  (2): ReLU(inplace)\n",
       "  (3): Conv2d(64, 64, kernel_size=(3, 3), stride=(1, 1), padding=(1, 1))\n",
       "  (4): BatchNorm2d(64, eps=1e-05, momentum=0.1, affine=True)\n",
       "  (5): ReLU(inplace)\n",
       "  (6): MaxPool2d(kernel_size=(2, 2), stride=(2, 2), dilation=(1, 1), ceil_mode=False)\n",
       "  (7): Conv2d(64, 128, kernel_size=(3, 3), stride=(1, 1), padding=(1, 1))\n",
       "  (8): BatchNorm2d(128, eps=1e-05, momentum=0.1, affine=True)\n",
       "  (9): ReLU(inplace)\n",
       "  (10): Conv2d(128, 128, kernel_size=(3, 3), stride=(1, 1), padding=(1, 1))\n",
       "  (11): BatchNorm2d(128, eps=1e-05, momentum=0.1, affine=True)\n",
       "  (12): ReLU(inplace)\n",
       "  (13): MaxPool2d(kernel_size=(2, 2), stride=(2, 2), dilation=(1, 1), ceil_mode=False)\n",
       "  (14): Conv2d(128, 256, kernel_size=(3, 3), stride=(1, 1), padding=(1, 1))\n",
       "  (15): BatchNorm2d(256, eps=1e-05, momentum=0.1, affine=True)\n",
       "  (16): ReLU(inplace)\n",
       "  (17): Conv2d(256, 256, kernel_size=(3, 3), stride=(1, 1), padding=(1, 1))\n",
       "  (18): BatchNorm2d(256, eps=1e-05, momentum=0.1, affine=True)\n",
       "  (19): ReLU(inplace)\n",
       "  (20): Conv2d(256, 256, kernel_size=(3, 3), stride=(1, 1), padding=(1, 1))\n",
       "  (21): BatchNorm2d(256, eps=1e-05, momentum=0.1, affine=True)\n",
       "  (22): ReLU(inplace)\n",
       "  (23): MaxPool2d(kernel_size=(2, 2), stride=(2, 2), dilation=(1, 1), ceil_mode=False)\n",
       "  (24): Conv2d(256, 512, kernel_size=(3, 3), stride=(1, 1), padding=(1, 1))\n",
       "  (25): BatchNorm2d(512, eps=1e-05, momentum=0.1, affine=True)\n",
       "  (26): ReLU(inplace)\n",
       "  (27): Conv2d(512, 512, kernel_size=(3, 3), stride=(1, 1), padding=(1, 1))\n",
       "  (28): BatchNorm2d(512, eps=1e-05, momentum=0.1, affine=True)\n",
       "  (29): ReLU(inplace)\n",
       "  (30): Conv2d(512, 512, kernel_size=(3, 3), stride=(1, 1), padding=(1, 1))\n",
       "  (31): BatchNorm2d(512, eps=1e-05, momentum=0.1, affine=True)\n",
       "  (32): ReLU(inplace)\n",
       "  (33): MaxPool2d(kernel_size=(2, 2), stride=(2, 2), dilation=(1, 1), ceil_mode=False)\n",
       "  (34): Conv2d(512, 512, kernel_size=(3, 3), stride=(1, 1), padding=(1, 1))\n",
       "  (35): BatchNorm2d(512, eps=1e-05, momentum=0.1, affine=True)\n",
       "  (36): ReLU(inplace)\n",
       "  (37): Conv2d(512, 512, kernel_size=(3, 3), stride=(1, 1), padding=(1, 1))\n",
       "  (38): BatchNorm2d(512, eps=1e-05, momentum=0.1, affine=True)\n",
       "  (39): ReLU(inplace)\n",
       "  (40): Conv2d(512, 512, kernel_size=(3, 3), stride=(1, 1), padding=(1, 1))\n",
       "  (41): BatchNorm2d(512, eps=1e-05, momentum=0.1, affine=True)\n",
       "  (42): ReLU(inplace)\n",
       "  (43): MaxPool2d(kernel_size=(2, 2), stride=(2, 2), dilation=(1, 1), ceil_mode=False)\n",
       ")"
      ]
     },
     "execution_count": 101,
     "metadata": {},
     "output_type": "execute_result"
    }
   ],
   "source": [
    "vgg16(pre=False)"
   ]
  },
  {
   "cell_type": "code",
   "execution_count": 102,
   "metadata": {
    "ExecuteTime": {
     "end_time": "2018-05-10T07:21:07.050807Z",
     "start_time": "2018-05-10T07:21:07.041437Z"
    }
   },
   "outputs": [
    {
     "ename": "NameError",
     "evalue": "name 'vgg' is not defined",
     "output_type": "error",
     "traceback": [
      "\u001b[0;31m---------------------------------------------------------------------------\u001b[0m",
      "\u001b[0;31mNameError\u001b[0m                                 Traceback (most recent call last)",
      "\u001b[0;32m<ipython-input-102-1c6a46e5fb0f>\u001b[0m in \u001b[0;36m<module>\u001b[0;34m()\u001b[0m\n\u001b[0;32m----> 1\u001b[0;31m \u001b[0mvgg\u001b[0m\u001b[0;34m\u001b[0m\u001b[0m\n\u001b[0m",
      "\u001b[0;31mNameError\u001b[0m: name 'vgg' is not defined"
     ]
    }
   ],
   "source": [
    "vgg"
   ]
  },
  {
   "cell_type": "code",
   "execution_count": 117,
   "metadata": {
    "ExecuteTime": {
     "end_time": "2018-05-10T07:41:10.991244Z",
     "start_time": "2018-05-10T07:41:10.987337Z"
    }
   },
   "outputs": [],
   "source": [
    "class SimpleConvBN(nn.Module):\n",
    "    \"convolutional layer then batchnorm\"\n",
    "\n",
    "    def __init__(self, ch_in, ch_out, kernel_size=(3, 3), stride=(1, 1), padding=(1, 1)):\n",
    "        super().__init__()\n",
    "        self.conv = nn.Conv2d(ch_in, ch_out, kernel_size=kernel_size, stride=stride, padding=padding, bias=False)\n",
    "        self.bn = nn.BatchNorm2d(ch_out, momentum=0.01)\n",
    "        self.maxpool = nn.MaxPool2d(kernel_size=2)\n",
    "        self.relu = nn.ReLU(inplace=True)\n",
    "\n",
    "    def forward(self, x): return self.relu(self.bn(self.conv(x)))\n"
   ]
  },
  {
   "cell_type": "code",
   "execution_count": 118,
   "metadata": {
    "ExecuteTime": {
     "end_time": "2018-05-10T07:42:04.511864Z",
     "start_time": "2018-05-10T07:42:04.507569Z"
    }
   },
   "outputs": [],
   "source": [
    "class SimpleConvNet(nn.Module):\n",
    "    \n",
    "    def __init__(self,ch_in, ch_out, kernel_size=3, stride=2, padding=0):\n",
    "        super().__init__()\n",
    "        self.conv1 = SimpleConvBN(32,32)\n",
    "        self.conv2 = SimpleConvBN(32,64)\n",
    "        self.flatten = nn.Flatten()\n",
    "        self.fc1 = nn.Linear(224*224*64/2/2,200)\n",
    "        self.relu1 = nn.ReLU(inplace=True)\n",
    "        self.bn1 = nn.BatchNorm2d(200)\n",
    "        self.fc2 = nn.Linear(200,10)\n",
    "    def forward(self, x): \n",
    "        x = self.conv1(x)\n",
    "        x = self.conv2(x)\n",
    "        x = self.fc1(x)\n",
    "        x = self.relu1(x)\n",
    "        x = self.fc2(x)\n",
    "        return x"
   ]
  },
  {
   "cell_type": "code",
   "execution_count": 120,
   "metadata": {
    "ExecuteTime": {
     "end_time": "2018-05-10T07:42:14.439747Z",
     "start_time": "2018-05-10T07:42:14.437450Z"
    }
   },
   "outputs": [],
   "source": [
    "model = SimpleConvNet"
   ]
  },
  {
   "cell_type": "code",
   "execution_count": 121,
   "metadata": {
    "ExecuteTime": {
     "end_time": "2018-05-10T07:42:17.869123Z",
     "start_time": "2018-05-10T07:42:17.859497Z"
    }
   },
   "outputs": [
    {
     "ename": "AttributeError",
     "evalue": "type object 'SimpleConvNet' has no attribute 'crit'",
     "output_type": "error",
     "traceback": [
      "\u001b[0;31m---------------------------------------------------------------------------\u001b[0m",
      "\u001b[0;31mAttributeError\u001b[0m                            Traceback (most recent call last)",
      "\u001b[0;32m<ipython-input-121-970b62e23e00>\u001b[0m in \u001b[0;36m<module>\u001b[0;34m()\u001b[0m\n\u001b[0;32m----> 1\u001b[0;31m \u001b[0mmodel\u001b[0m\u001b[0;34m.\u001b[0m\u001b[0mcrit\u001b[0m\u001b[0;34m\u001b[0m\u001b[0m\n\u001b[0m",
      "\u001b[0;31mAttributeError\u001b[0m: type object 'SimpleConvNet' has no attribute 'crit'"
     ]
    }
   ],
   "source": [
    "model.crit"
   ]
  },
  {
   "cell_type": "code",
   "execution_count": 108,
   "metadata": {
    "ExecuteTime": {
     "end_time": "2018-05-10T07:24:09.220727Z",
     "start_time": "2018-05-10T07:24:09.216288Z"
    }
   },
   "outputs": [
    {
     "data": {
      "text/plain": [
       "Sequential(\n",
       "  (0): SimpleConvBN(\n",
       "    (conv): Conv2d(32, 32, kernel_size=(3, 3), stride=(1, 1), bias=False)\n",
       "    (bn): BatchNorm2d(32, eps=1e-05, momentum=0.01, affine=True)\n",
       "    (maxpool): MaxPool2d(kernel_size=(3, 3), stride=(3, 3), dilation=(1, 1), ceil_mode=False)\n",
       "    (relu): ReLU(inplace)\n",
       "  )\n",
       "  (1): SimpleConvBN(\n",
       "    (conv): Conv2d(32, 64, kernel_size=(3, 3), stride=(1, 1), bias=False)\n",
       "    (bn): BatchNorm2d(64, eps=1e-05, momentum=0.01, affine=True)\n",
       "    (maxpool): MaxPool2d(kernel_size=(3, 3), stride=(3, 3), dilation=(1, 1), ceil_mode=False)\n",
       "    (relu): ReLU(inplace)\n",
       "  )\n",
       ")"
      ]
     },
     "execution_count": 108,
     "metadata": {},
     "output_type": "execute_result"
    }
   ],
   "source": [
    "nn.Sequential(SimpleConvBN(32,32), SimpleConvBN(32,64))"
   ]
  },
  {
   "cell_type": "code",
   "execution_count": 85,
   "metadata": {
    "ExecuteTime": {
     "end_time": "2018-05-10T06:54:12.270741Z",
     "start_time": "2018-05-10T06:54:11.880898Z"
    }
   },
   "outputs": [
    {
     "data": {
      "application/vnd.jupyter.widget-view+json": {
       "model_id": "08b848dbbc0d4942b5ccc044913863be",
       "version_major": 2,
       "version_minor": 0
      },
      "text/plain": [
       "HBox(children=(IntProgress(value=0, description='Epoch', max=1), HTML(value='')))"
      ]
     },
     "metadata": {},
     "output_type": "display_data"
    },
    {
     "name": "stdout",
     "output_type": "stream",
     "text": [
      "epoch      trn_loss   val_loss   accuracy                 \n",
      "    0      4.079443   513.535459 0.141     \n",
      "\n"
     ]
    }
   ],
   "source": [
    "learn.lr_find()\n"
   ]
  },
  {
   "cell_type": "code",
   "execution_count": 86,
   "metadata": {
    "ExecuteTime": {
     "end_time": "2018-05-10T06:54:12.594656Z",
     "start_time": "2018-05-10T06:54:12.272375Z"
    }
   },
   "outputs": [
    {
     "data": {
      "image/png": "[encoded data removed]",
      "text/plain": [
       "<Figure size 432x288 with 1 Axes>"
      ]
     },
     "metadata": {},
     "output_type": "display_data"
    }
   ],
   "source": [
    "learn.sched.plot(0,0)"
   ]
  },
  {
   "cell_type": "code",
   "execution_count": 87,
   "metadata": {
    "ExecuteTime": {
     "end_time": "2018-05-10T06:54:20.878822Z",
     "start_time": "2018-05-10T06:54:12.596126Z"
    }
   },
   "outputs": [
    {
     "data": {
      "application/vnd.jupyter.widget-view+json": {
       "model_id": "1b5a4e1028c741e8a0e8c3b486e65b8a",
       "version_major": 2,
       "version_minor": 0
      },
      "text/plain": [
       "HBox(children=(IntProgress(value=0, description='Epoch', max=20), HTML(value='')))"
      ]
     },
     "metadata": {},
     "output_type": "display_data"
    },
    {
     "name": "stdout",
     "output_type": "stream",
     "text": [
      "epoch      trn_loss   val_loss   accuracy                 \n",
      "    0      2.639845   2.238206   0.162     \n",
      "    1      2.245766   1.902011   0.318                    \n",
      "    2      1.828273   1.654182   0.452                    \n",
      "    3      1.493396   1.539944   0.509                    \n",
      "    4      1.213832   1.455192   0.532                   \n",
      "    5      0.994134   1.393367   0.563                    \n",
      "    6      0.829364   1.365674   0.575                    \n",
      "    7      0.68449    1.334419   0.577                     \n",
      "    8      0.581736   1.328002   0.588                    \n",
      "    9      0.500221   1.29905    0.596                    \n",
      "    10     0.436646   1.29991    0.599                    \n",
      "    11     0.384485   1.317077   0.601                    \n",
      "    12     0.346154   1.296031   0.597                    \n",
      "    13     0.308977   1.307722   0.602                    \n",
      "    14     0.281364   1.322387   0.596                    \n",
      "    15     0.25214    1.329846   0.594                    \n",
      "    16     0.232498   1.298066   0.602                    \n",
      "    17     0.226201   1.305077   0.602                    \n",
      "    18     0.208416   1.324919   0.598                    \n",
      "    19     0.200548   1.30861    0.599                    \n",
      "\n"
     ]
    },
    {
     "data": {
      "text/plain": [
       "[array([1.30861]), 0.599]"
      ]
     },
     "execution_count": 87,
     "metadata": {},
     "output_type": "execute_result"
    }
   ],
   "source": [
    "learn.fit(1e-2, 1, wds=0, cycle_len=20, use_clr_beta=(10,10,0.95,0.85))"
   ]
  },
  {
   "cell_type": "markdown",
   "metadata": {},
   "source": [
    "* Demonstration Transformation\n",
    "* Choose Best Augmentation\n",
    "* Submit StateFarm\n",
    "* Plot some graph, figure out image size\n",
    "* Start fabric dataset, or google\n",
    "* Flask Web Server"
   ]
  },
  {
   "cell_type": "markdown",
   "metadata": {
    "ExecuteTime": {
     "end_time": "2018-05-09T17:33:58.734402Z",
     "start_time": "2018-05-09T17:33:58.731965Z"
    }
   },
   "source": [
    "# Data Augmentation"
   ]
  },
  {
   "cell_type": "markdown",
   "metadata": {
    "ExecuteTime": {
     "end_time": "2018-05-09T17:34:51.355216Z",
     "start_time": "2018-05-09T17:34:51.350824Z"
    }
   },
   "source": [
    "So now the model overfit a lot, it is as expected as we are using a large model with only few sample data. Let's try some augmentation to mitigate the overfit problem'"
   ]
  },
  {
   "cell_type": "markdown",
   "metadata": {
    "ExecuteTime": {
     "end_time": "2018-05-09T17:38:33.419847Z",
     "start_time": "2018-05-09T17:38:33.415548Z"
    }
   },
   "source": [
    "## Basic Transformation"
   ]
  },
  {
   "cell_type": "code",
   "execution_count": 88,
   "metadata": {
    "ExecuteTime": {
     "end_time": "2018-05-10T06:54:27.470711Z",
     "start_time": "2018-05-10T06:54:27.466794Z"
    }
   },
   "outputs": [],
   "source": [
    "transforms = [RandomBlur(),RandomCrop(224),RandomDihedral(),RandomFlip(),\n",
    "             RandomLighting(0.05, 0.05),RandomRotate(10),\n",
    "            RandomScale(224,0.1),RandomStretch(0.1),RandomZoom(0.1)]"
   ]
  },
  {
   "cell_type": "code",
   "execution_count": 89,
   "metadata": {
    "ExecuteTime": {
     "end_time": "2018-05-10T06:54:27.781373Z",
     "start_time": "2018-05-10T06:54:27.778326Z"
    }
   },
   "outputs": [],
   "source": [
    "transforms_names =['RandomBlur()','RandomCrop(224)','RandomDihedral()','RandomFlip()',\n",
    "             'RandomLighting(0.05, 0.05)','RandomRotate(10)',\n",
    "            'RandomScale(224,0.1)','RandomStretch(0.1)','RandomZoom(0.1)']"
   ]
  },
  {
   "cell_type": "code",
   "execution_count": 90,
   "metadata": {
    "ExecuteTime": {
     "end_time": "2018-05-10T06:54:28.391619Z",
     "start_time": "2018-05-10T06:54:28.387954Z"
    }
   },
   "outputs": [
    {
     "data": {
      "text/plain": [
       "(9, 9)"
      ]
     },
     "execution_count": 90,
     "metadata": {},
     "output_type": "execute_result"
    }
   ],
   "source": [
    "len(transforms), len(transforms_names)"
   ]
  },
  {
   "cell_type": "code",
   "execution_count": 92,
   "metadata": {
    "ExecuteTime": {
     "end_time": "2018-05-10T06:57:41.049876Z",
     "start_time": "2018-05-10T06:54:34.836249Z"
    },
    "scrolled": true
   },
   "outputs": [
    {
     "name": "stdout",
     "output_type": "stream",
     "text": [
      "Transformation: RandomBlur()\n"
     ]
    },
    {
     "data": {
      "application/vnd.jupyter.widget-view+json": {
       "model_id": "4e740a002a0741ecb43196b9ca33badb",
       "version_major": 2,
       "version_minor": 0
      },
      "text/plain": [
       "HBox(children=(IntProgress(value=0, description='Epoch', max=20), HTML(value='')))"
      ]
     },
     "metadata": {},
     "output_type": "display_data"
    },
    {
     "name": "stdout",
     "output_type": "stream",
     "text": [
      "epoch      trn_loss   val_loss   accuracy                \n",
      "    0      2.713315   2.264384   0.144     \n",
      "    1      2.274458   1.959309   0.313                   \n",
      "    2      1.843155   1.746836   0.392                   \n",
      "    3      1.486134   1.63709    0.445                   \n",
      "    4      1.222764   1.555105   0.478                   \n",
      "    5      1.013145   1.539189   0.477                   \n",
      "    6      0.849319   1.537944   0.487                    \n",
      "    7      0.71009    1.510821   0.491                    \n",
      "    8      0.606281   1.510861   0.522                    \n",
      "    9      0.52347    1.528037   0.53                     \n",
      "    10     0.464552   1.536649   0.518                    \n",
      "    11     0.40972    1.510645   0.525                    \n",
      "    12     0.35591    1.499253   0.54                     \n",
      "    13     0.318845   1.486874   0.546                    \n",
      "    14     0.282995   1.493011   0.531                    \n",
      "    15     0.258803   1.478133   0.55                     \n",
      "    16     0.248324   1.492239   0.537                     \n",
      "    17     0.234798   1.505024   0.547                    \n",
      "    18     0.223747   1.518018   0.547                    \n",
      "    19     0.20994    1.520918   0.549                    \n",
      "\n",
      "Transformation: RandomCrop(224)\n"
     ]
    },
    {
     "data": {
      "application/vnd.jupyter.widget-view+json": {
       "model_id": "4e85d3ca268b40768c173defa490dbfc",
       "version_major": 2,
       "version_minor": 0
      },
      "text/plain": [
       "HBox(children=(IntProgress(value=0, description='Epoch', max=20), HTML(value='')))"
      ]
     },
     "metadata": {},
     "output_type": "display_data"
    },
    {
     "name": "stdout",
     "output_type": "stream",
     "text": [
      "epoch      trn_loss   val_loss   accuracy                \n",
      "    0      2.63969    2.30232    0.142     \n",
      "    1      2.242497   2.025888   0.273                     \n",
      "    2      1.835552   1.77911    0.379                   \n",
      "    3      1.480101   1.64204    0.438                    \n",
      "    4      1.201083   1.553177   0.468                    \n",
      "    5      0.985759   1.454193   0.504                    \n",
      "    6      0.811698   1.448135   0.508                    \n",
      "    7      0.68021    1.454223   0.516                    \n",
      "    8      0.579075   1.417634   0.523                    \n",
      "    9      0.502058   1.442746   0.514                    \n",
      "    10     0.433344   1.402639   0.524                    \n",
      "    11     0.381179   1.413133   0.524                    \n",
      "    12     0.339815   1.372669   0.54                     \n",
      "    13     0.311174   1.371035   0.545                    \n",
      "    14     0.278479   1.376708   0.543                    \n",
      "    15     0.256725   1.380949   0.54                      \n",
      "    16     0.245277   1.373965   0.555                    \n",
      "    17     0.227611   1.38444    0.544                    \n",
      "    18     0.209672   1.364958   0.551                    \n",
      "    19     0.202074   1.390424   0.537                    \n",
      "\n",
      "Transformation: RandomDihedral()\n"
     ]
    },
    {
     "data": {
      "application/vnd.jupyter.widget-view+json": {
       "model_id": "aba6164203aa477dbce87780d0d2b7ed",
       "version_major": 2,
       "version_minor": 0
      },
      "text/plain": [
       "HBox(children=(IntProgress(value=0, description='Epoch', max=20), HTML(value='')))"
      ]
     },
     "metadata": {},
     "output_type": "display_data"
    },
    {
     "name": "stdout",
     "output_type": "stream",
     "text": [
      "epoch      trn_loss   val_loss   accuracy                  \n",
      "    0      2.70895    2.285739   0.159     \n",
      "    1      2.306759   1.99054    0.285                    \n",
      "    2      1.910106   1.736357   0.427                    \n",
      "    3      1.561539   1.597049   0.467                    \n",
      "    4      1.284769   1.509061   0.501                    \n",
      "    5      1.052903   1.475524   0.509                   \n",
      "    6      0.879556   1.423246   0.526                    \n",
      "    7      0.752451   1.391714   0.533                    \n",
      "    8      0.645633   1.388664   0.539                    \n",
      "    9      0.547783   1.397496   0.53                     \n",
      "    10     0.467927   1.39085    0.542                    \n",
      "    11     0.415661   1.386535   0.544                    \n",
      "    12     0.36306    1.370284   0.552                    \n",
      "    13     0.319525   1.376686   0.548                    \n",
      "    14     0.294835   1.420445   0.537                    \n",
      "    15     0.268465   1.38088    0.547                    \n",
      "    16     0.251801   1.407382   0.55                     \n",
      "    17     0.234664   1.403132   0.545                    \n",
      "    18     0.228636   1.409877   0.543                    \n",
      "    19     0.220675   1.410072   0.552                    \n",
      "\n",
      "Transformation: RandomFlip()\n"
     ]
    },
    {
     "data": {
      "application/vnd.jupyter.widget-view+json": {
       "model_id": "b24cf5250c86446c83158955b4530770",
       "version_major": 2,
       "version_minor": 0
      },
      "text/plain": [
       "HBox(children=(IntProgress(value=0, description='Epoch', max=20), HTML(value='')))"
      ]
     },
     "metadata": {},
     "output_type": "display_data"
    },
    {
     "name": "stdout",
     "output_type": "stream",
     "text": [
      "epoch      trn_loss   val_loss   accuracy                 \n",
      "    0      2.734977   2.307206   0.138     \n",
      "    1      2.319106   1.980509   0.317                    \n",
      "    2      1.884201   1.716482   0.431                     \n",
      "    3      1.534578   1.580823   0.494                    \n",
      "    4      1.263736   1.487485   0.525                    \n",
      "    5      1.037445   1.43415    0.534                    \n",
      "    6      0.870736   1.400432   0.555                    \n",
      "    7      0.728519   1.392347   0.553                    \n",
      "    8      0.626836   1.374793   0.557                    \n",
      "    9      0.533678   1.358202   0.56                     \n",
      "    10     0.460321   1.352459   0.573                    \n",
      "    11     0.398722   1.328364   0.574                    \n",
      "    12     0.35434    1.323272   0.585                    \n",
      "    13     0.313282   1.320396   0.584                    \n",
      "    14     0.293396   1.340159   0.58                     \n",
      "    15     0.269939   1.332873   0.585                    \n",
      "    16     0.255111   1.344138   0.587                    \n",
      "    17     0.238466   1.339192   0.578                    \n",
      "    18     0.223603   1.359809   0.574                    \n",
      "    19     0.218308   1.342778   0.58                     \n",
      "\n",
      "Transformation: RandomLighting(0.05, 0.05)\n"
     ]
    },
    {
     "data": {
      "application/vnd.jupyter.widget-view+json": {
       "model_id": "5d4992ef955a40adaab529a1a443de27",
       "version_major": 2,
       "version_minor": 0
      },
      "text/plain": [
       "HBox(children=(IntProgress(value=0, description='Epoch', max=20), HTML(value='')))"
      ]
     },
     "metadata": {},
     "output_type": "display_data"
    },
    {
     "name": "stdout",
     "output_type": "stream",
     "text": [
      "epoch      trn_loss   val_loss   accuracy                 \n",
      "    0      2.712103   2.333059   0.134     \n",
      "    1      2.305034   1.983762   0.32                     \n",
      "    2      1.861034   1.748921   0.441                     \n",
      "    3      1.499393   1.629316   0.492                    \n",
      "    4      1.216476   1.518795   0.534                   \n",
      "    5      0.988502   1.468778   0.559                    \n",
      "    6      0.813302   1.43977    0.556                    \n",
      "    7      0.685727   1.4181     0.56                     \n",
      "    8      0.575042   1.398692   0.572                    \n",
      "    9      0.495708   1.416158   0.574                    \n",
      "    10     0.439469   1.410669   0.571                    \n",
      "    11     0.378594   1.438496   0.553                    \n",
      "    12     0.338245   1.429314   0.556                    \n",
      "    13     0.308782   1.468181   0.56                     \n",
      "    14     0.275535   1.449452   0.571                     \n",
      "    15     0.248569   1.460072   0.574                    \n",
      "    16     0.229294   1.464118   0.557                    \n",
      "    17     0.224406   1.452121   0.564                    \n",
      "    18     0.209323   1.444523   0.563                    \n",
      "    19     0.199239   1.463435   0.556                    \n",
      "\n",
      "Transformation: RandomRotate(10)\n"
     ]
    },
    {
     "data": {
      "application/vnd.jupyter.widget-view+json": {
       "model_id": "e2a024b7c153400b9e69b232cc143a90",
       "version_major": 2,
       "version_minor": 0
      },
      "text/plain": [
       "HBox(children=(IntProgress(value=0, description='Epoch', max=20), HTML(value='')))"
      ]
     },
     "metadata": {},
     "output_type": "display_data"
    },
    {
     "name": "stdout",
     "output_type": "stream",
     "text": [
      "epoch      trn_loss   val_loss   accuracy                 \n",
      "    0      2.727518   2.297117   0.142     \n",
      "    1      2.265595   1.999155   0.294                    \n",
      "    2      1.839175   1.77128    0.38                     \n",
      "    3      1.480039   1.614431   0.456                    \n",
      "    4      1.202774   1.553425   0.485                    \n",
      "    5      0.985096   1.51603    0.512                     \n",
      "    6      0.825062   1.511515   0.516                     \n",
      "    7      0.692758   1.462636   0.535                    \n",
      "    8      0.591698   1.459223   0.545                    \n",
      "    9      0.506287   1.452186   0.542                    \n",
      "    10     0.439777   1.421457   0.554                    \n",
      "    11     0.384645   1.447636   0.542                    \n",
      "    12     0.338735   1.45632    0.55                     \n",
      "    13     0.309974   1.496843   0.547                    \n",
      "    14     0.288804   1.483396   0.55                     \n",
      "    15     0.274135   1.452422   0.558                    \n",
      "    16     0.248627   1.462321   0.551                    \n",
      "    17     0.223956   1.474194   0.561                    \n",
      "    18     0.210742   1.47239    0.555                    \n",
      "    19     0.204414   1.462392   0.556                    \n",
      "\n",
      "Transformation: RandomScale(224,0.1)\n"
     ]
    },
    {
     "data": {
      "application/vnd.jupyter.widget-view+json": {
       "model_id": "0510e73693394dc3888121e546eab4da",
       "version_major": 2,
       "version_minor": 0
      },
      "text/plain": [
       "HBox(children=(IntProgress(value=0, description='Epoch', max=20), HTML(value='')))"
      ]
     },
     "metadata": {},
     "output_type": "display_data"
    },
    {
     "name": "stdout",
     "output_type": "stream",
     "text": [
      "epoch      trn_loss   val_loss   accuracy                 \n",
      "    0      2.662236   2.291554   0.139     \n",
      "    1      2.287415   1.992769   0.289                    \n",
      "    2      1.853439   1.731818   0.4                      \n",
      "    3      1.499762   1.593925   0.442                    \n",
      "    4      1.222244   1.483526   0.487                    \n",
      "    5      1.000567   1.443566   0.509                    \n",
      "    6      0.833167   1.410899   0.527                    \n",
      "    7      0.696576   1.393155   0.534                    \n",
      "    8      0.593394   1.338204   0.558                    \n",
      "    9      0.518109   1.342202   0.553                    \n",
      "    10     0.449352   1.318288   0.566                    \n",
      "    11     0.391103   1.310097   0.579                    \n",
      "    12     0.346046   1.31419    0.578                    \n",
      "    13     0.307496   1.297673   0.59                     \n",
      "    14     0.278634   1.313246   0.592                    \n",
      "    15     0.258984   1.31837    0.583                    \n",
      "    16     0.241026   1.323496   0.595                    \n",
      "    17     0.220755   1.337547   0.584                    \n",
      "    18     0.209107   1.351249   0.581                    \n",
      "    19     0.207908   1.344631   0.583                    \n",
      "\n",
      "Transformation: RandomStretch(0.1)\n"
     ]
    },
    {
     "data": {
      "application/vnd.jupyter.widget-view+json": {
       "model_id": "736acf58e561410a93efaa67cef41cba",
       "version_major": 2,
       "version_minor": 0
      },
      "text/plain": [
       "HBox(children=(IntProgress(value=0, description='Epoch', max=20), HTML(value='')))"
      ]
     },
     "metadata": {},
     "output_type": "display_data"
    },
    {
     "name": "stdout",
     "output_type": "stream",
     "text": [
      "epoch      trn_loss   val_loss   accuracy                 \n",
      "    0      2.652031   2.259331   0.155     \n",
      "    1      2.275266   1.946867   0.325                    \n",
      "    2      1.862193   1.667927   0.465                    \n",
      "    3      1.508037   1.527441   0.499                    \n",
      "    4      1.231403   1.442782   0.531                    \n",
      "    5      1.013505   1.392462   0.531                   \n",
      "    6      0.837035   1.35173    0.545                    \n",
      "    7      0.691138   1.317258   0.563                    \n",
      "    8      0.586371   1.329357   0.559                    \n",
      "    9      0.509629   1.328849   0.567                    \n",
      "    10     0.441876   1.347426   0.557                    \n",
      "    11     0.394374   1.337078   0.56                     \n",
      "    12     0.357177   1.363083   0.565                    \n",
      "    13     0.311723   1.366258   0.572                    \n",
      "    14     0.278596   1.369441   0.566                    \n",
      "    15     0.257192   1.366205   0.57                     \n",
      "    16     0.244144   1.366302   0.571                     \n",
      "    17     0.232989   1.362753   0.572                    \n",
      "    18     0.221742   1.372679   0.574                    \n",
      "    19     0.212802   1.390864   0.568                    \n",
      "\n",
      "Transformation: RandomZoom(0.1)\n"
     ]
    },
    {
     "data": {
      "application/vnd.jupyter.widget-view+json": {
       "model_id": "77f58f82df1b4736a3c9fcc23f27c2c0",
       "version_major": 2,
       "version_minor": 0
      },
      "text/plain": [
       "HBox(children=(IntProgress(value=0, description='Epoch', max=20), HTML(value='')))"
      ]
     },
     "metadata": {},
     "output_type": "display_data"
    },
    {
     "name": "stdout",
     "output_type": "stream",
     "text": [
      "epoch      trn_loss   val_loss   accuracy                 \n",
      "    0      2.751256   2.276239   0.158     \n",
      "    1      2.315747   1.928239   0.336                    \n",
      "    2      1.857832   1.634141   0.48                     \n",
      "    3      1.494344   1.474494   0.516                    \n",
      "    4      1.222019   1.413752   0.529                    \n",
      "    5      1.003369   1.371466   0.537                    \n",
      "    6      0.838045   1.329444   0.535                    \n",
      "    7      0.706203   1.322087   0.546                     \n",
      "    8      0.59191    1.332029   0.54                     \n",
      "    9      0.514348   1.300763   0.561                    \n",
      "    10     0.447098   1.299178   0.545                    \n",
      "    11     0.395964   1.297506   0.555                    \n",
      "    12     0.350932   1.294882   0.558                    \n",
      "    13     0.313401   1.277796   0.565                    \n",
      "    14     0.283029   1.289748   0.569                    \n",
      "    15     0.263778   1.272451   0.581                    \n",
      "    16     0.241855   1.27126    0.583                    \n",
      "    17     0.228375   1.277712   0.579                    \n",
      "    18     0.221499   1.291635   0.572                    \n",
      "    19     0.210287   1.285448   0.573                    \n",
      "\n"
     ]
    }
   ],
   "source": [
    "results = []\n",
    "\n",
    "for transform, transform_name in zip(transforms,transforms_names):    \n",
    "    print('Transformation:', transform_name)\n",
    "    data = ImageClassifierData.from_paths(PATH, bs=bs,\n",
    "                                          tfms=tfms_from_model(arch, sz, aug_tfms=transform, max_zoom=0.1))\n",
    "    learn = ConvLearner.pretrained(arch, data, precompute=True)\n",
    "    results.append(learn.fit(1e-2, 1, wds=0, cycle_len=20, use_clr_beta=(10,10,0.95,0.85)))"
   ]
  },
  {
   "cell_type": "code",
   "execution_count": 56,
   "metadata": {
    "ExecuteTime": {
     "end_time": "2018-05-10T06:50:37.082038Z",
     "start_time": "2018-05-10T06:50:37.063149Z"
    }
   },
   "outputs": [
    {
     "data": {
      "text/html": [
       "<div>\n",
       "<style scoped>\n",
       "    .dataframe tbody tr th:only-of-type {\n",
       "        vertical-align: middle;\n",
       "    }\n",
       "\n",
       "    .dataframe tbody tr th {\n",
       "        vertical-align: top;\n",
       "    }\n",
       "\n",
       "    .dataframe thead th {\n",
       "        text-align: right;\n",
       "    }\n",
       "</style>\n",
       "<table border=\"1\" class=\"dataframe\">\n",
       "  <thead>\n",
       "    <tr style=\"text-align: right;\">\n",
       "      <th></th>\n",
       "      <th>RandomBlur()</th>\n",
       "      <th>RandomCrop(224)</th>\n",
       "      <th>RandomDihedral()</th>\n",
       "      <th>RandomFlip()</th>\n",
       "      <th>RandomLighting(0.05, 0.05)</th>\n",
       "      <th>RandomRotate(10)</th>\n",
       "      <th>RandomScale(224,0.1)</th>\n",
       "      <th>RandomStretch(0.1)</th>\n",
       "      <th>RandomZoom(0.1)</th>\n",
       "    </tr>\n",
       "  </thead>\n",
       "  <tbody>\n",
       "    <tr>\n",
       "      <th>0</th>\n",
       "      <td>[[1.3233119201660157], 0.558]</td>\n",
       "      <td>[[1.3892761173248291], 0.522]</td>\n",
       "      <td>[[1.4639691848754883], 0.5139999997615814]</td>\n",
       "      <td>[[1.2716307106018065], 0.5890000004768372]</td>\n",
       "      <td>[[1.49022953414917], 0.5209999995231629]</td>\n",
       "      <td>[[1.357343373298645], 0.5469999995231628]</td>\n",
       "      <td>[[1.3781134195327758], 0.5480000002384185]</td>\n",
       "      <td>[[1.4077640571594239], 0.5109999998807907]</td>\n",
       "      <td>[[1.4239098224639892], 0.5309999995231628]</td>\n",
       "    </tr>\n",
       "  </tbody>\n",
       "</table>\n",
       "</div>"
      ],
      "text/plain": [
       "                    RandomBlur()                RandomCrop(224)  \\\n",
       "0  [[1.3233119201660157], 0.558]  [[1.3892761173248291], 0.522]   \n",
       "\n",
       "                             RandomDihedral()  \\\n",
       "0  [[1.4639691848754883], 0.5139999997615814]   \n",
       "\n",
       "                                 RandomFlip()  \\\n",
       "0  [[1.2716307106018065], 0.5890000004768372]   \n",
       "\n",
       "                 RandomLighting(0.05, 0.05)  \\\n",
       "0  [[1.49022953414917], 0.5209999995231629]   \n",
       "\n",
       "                            RandomRotate(10)  \\\n",
       "0  [[1.357343373298645], 0.5469999995231628]   \n",
       "\n",
       "                         RandomScale(224,0.1)  \\\n",
       "0  [[1.3781134195327758], 0.5480000002384185]   \n",
       "\n",
       "                           RandomStretch(0.1)  \\\n",
       "0  [[1.4077640571594239], 0.5109999998807907]   \n",
       "\n",
       "                              RandomZoom(0.1)  \n",
       "0  [[1.4239098224639892], 0.5309999995231628]  "
      ]
     },
     "execution_count": 56,
     "metadata": {},
     "output_type": "execute_result"
    }
   ],
   "source": [
    "# pd.DataFrame([results], columns=transforms_names)"
   ]
  },
  {
   "cell_type": "markdown",
   "metadata": {},
   "source": [
    "Put together all augmentation that has significant improvement"
   ]
  },
  {
   "cell_type": "code",
   "execution_count": null,
   "metadata": {},
   "outputs": [],
   "source": [
    "transforms_all = [RandomScale(224,0.1), RandomStretch(0.1), RandomRotate(10), RandomLighting(0.05, 0.05), RandomDihedral(),RandomBlur()\n",
    "\n",
    "data = ImageClassifierData.from_paths(PATH, bs=bs, tfms=tfms_from_model(arch, sz, aug_tfms=transforms_side_on, max_zoom=0.1))\n",
    "\n",
    "learn = ConvLearner.pretrained(arch, data, precompute=True)"
   ]
  }
 ],
 "metadata": {
  "anaconda-cloud": {},
  "kernelspec": {
   "display_name": "Python 3",
   "language": "python",
   "name": "python3"
  },
  "language_info": {
   "codemirror_mode": {
    "name": "ipython",
    "version": 3
   },
   "file_extension": ".py",
   "mimetype": "text/x-python",
   "name": "python",
   "nbconvert_exporter": "python",
   "pygments_lexer": "ipython3",
   "version": "3.6.5"
  },
  "nav_menu": {},
  "nbpresent": {
   "slides": {
    "28b43202-5690-4169-9aca-6b9dabfeb3ec": {
     "id": "28b43202-5690-4169-9aca-6b9dabfeb3ec",
     "prev": null,
     "regions": {
      "3bba644a-cf4d-4a49-9fbd-e2554428cf9f": {
       "attrs": {
        "height": 0.8,
        "width": 0.8,
        "x": 0.1,
        "y": 0.1
       },
       "content": {
        "cell": "f3d3a388-7e2a-4151-9b50-c20498fceacc",
        "part": "whole"
       },
       "id": "3bba644a-cf4d-4a49-9fbd-e2554428cf9f"
      }
     }
    },
    "8104def2-4b68-44a0-8f1b-b03bf3b2a079": {
     "id": "8104def2-4b68-44a0-8f1b-b03bf3b2a079",
     "prev": "28b43202-5690-4169-9aca-6b9dabfeb3ec",
     "regions": {
      "7dded777-1ddf-4100-99ae-25cf1c15b575": {
       "attrs": {
        "height": 0.8,
        "width": 0.8,
        "x": 0.1,
        "y": 0.1
       },
       "content": {
        "cell": "fe47bd48-3414-4657-92e7-8b8d6cb0df00",
        "part": "whole"
       },
       "id": "7dded777-1ddf-4100-99ae-25cf1c15b575"
      }
     }
    }
   },
   "themes": {}
  },
  "toc": {
   "nav_menu": {
    "height": "148px",
    "width": "254px"
   },
   "navigate_menu": true,
   "number_sections": true,
   "sideBar": true,
   "threshold": 6,
   "toc_cell": false,
   "toc_section_display": "block",
   "toc_window_display": false
  },
  "widgets": {
   "state": {},
   "version": "1.1.2"
  }
 },
 "nbformat": 4,
 "nbformat_minor": 1
}
